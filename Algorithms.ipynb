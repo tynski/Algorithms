{
 "cells": [
  {
   "cell_type": "code",
   "execution_count": 6,
   "metadata": {},
   "outputs": [],
   "source": [
    "import math\n",
    "import numpy as np\n",
    "import random"
   ]
  },
  {
   "cell_type": "markdown",
   "metadata": {},
   "source": [
    "# Binary Search"
   ]
  },
  {
   "cell_type": "code",
   "execution_count": 7,
   "metadata": {},
   "outputs": [],
   "source": [
    "def binarySearch(array, target):\n",
    "    guess_count = 0\n",
    "    n = len(array)\n",
    "    Min = 0\n",
    "    Max = n-1\n",
    "    while Min<=Max:\n",
    "        guess = math.floor((Max+Min)/2)\n",
    "        guess_count += 1\n",
    "        if array[guess] == target:\n",
    "            return guess, guess_count\n",
    "        elif array[guess] < target:\n",
    "            Min = guess + 1\n",
    "        else:\n",
    "            Max = guess - 1\n",
    "    return -1, guess_count  "
   ]
  },
  {
   "cell_type": "code",
   "execution_count": 8,
   "metadata": {},
   "outputs": [
    {
     "name": "stdout",
     "output_type": "stream",
     "text": [
      "(index, number of iteration) (18, 2)\n"
     ]
    }
   ],
   "source": [
    "# algorithm test\n",
    "array = np.array([2, 3, 5, 7, 11, 13, 17, 19, 23, 29, 31, 37, 41, 43, 47, 53, 59, 61, 67, 71, 73, 79, 83, 89, 97])\n",
    "print(\"(index, number of iteration)\",binarySearch(array, 67))"
   ]
  },
  {
   "cell_type": "markdown",
   "metadata": {},
   "source": [
    "# Swap"
   ]
  },
  {
   "cell_type": "code",
   "execution_count": 9,
   "metadata": {},
   "outputs": [],
   "source": [
    "def swap(array, firstIndex, secondIndex):\n",
    "    temp = array[firstIndex]\n",
    "    array[firstIndex] = array[secondIndex]\n",
    "    array[secondIndex] = temp"
   ]
  },
  {
   "cell_type": "code",
   "execution_count": 36,
   "metadata": {},
   "outputs": [
    {
     "name": "stdout",
     "output_type": "stream",
     "text": [
      "[57, 86, 29, 44, 84, 93, 14, 28, 79, 11]\n",
      "2 and 5 index before swap: 29 93\n",
      "after swap 93 29\n"
     ]
    }
   ],
   "source": [
    "# algorithm test\n",
    "array = random.sample(range(100), 10)\n",
    "print(array)\n",
    "print('2 and 5 index before swap:', array[2],array[5])\n",
    "swap(array, 2, 5)\n",
    "print('after swap', array[2],array[5])"
   ]
  },
  {
   "cell_type": "markdown",
   "metadata": {},
   "source": [
    "# Index of minimum"
   ]
  },
  {
   "cell_type": "code",
   "execution_count": 37,
   "metadata": {},
   "outputs": [],
   "source": [
    "def indexOfMinimum(array,startIndex):\n",
    "    minIndex = startIndex\n",
    "    minVal = array[startIndex]\n",
    "    for index in range(minIndex + 1, len(array)):\n",
    "        if array[index] < minVal:\n",
    "            minIndex = index\n",
    "            minVal = array[index]\n",
    "    return minIndex"
   ]
  },
  {
   "cell_type": "code",
   "execution_count": 38,
   "metadata": {},
   "outputs": [
    {
     "data": {
      "text/plain": [
       "11"
      ]
     },
     "execution_count": 38,
     "metadata": {},
     "output_type": "execute_result"
    }
   ],
   "source": [
    "#algorithm test\n",
    "array[indexOfMinimum(array,4)]"
   ]
  },
  {
   "cell_type": "markdown",
   "metadata": {},
   "source": [
    "# Selection sort"
   ]
  },
  {
   "cell_type": "code",
   "execution_count": 39,
   "metadata": {},
   "outputs": [],
   "source": [
    "def selectionSort(array):\n",
    "    for index in range(len(array)):\n",
    "        swap(array,index,indexOfMinimum(array, index))\n",
    "    "
   ]
  },
  {
   "cell_type": "code",
   "execution_count": 40,
   "metadata": {
    "scrolled": false
   },
   "outputs": [
    {
     "name": "stdout",
     "output_type": "stream",
     "text": [
      "[11, 14, 28, 29, 44, 57, 79, 84, 86, 93]\n"
     ]
    }
   ],
   "source": [
    "# algorithm test\n",
    "selectionSort(array)\n",
    "print(array)"
   ]
  },
  {
   "cell_type": "markdown",
   "metadata": {},
   "source": [
    "# Insert"
   ]
  },
  {
   "cell_type": "code",
   "execution_count": 50,
   "metadata": {},
   "outputs": [],
   "source": [
    "# last_index -> last index of sorted subarray\n",
    "def insert(array, last_index, value):\n",
    "    j = last_index\n",
    "    array.insert(j+1,value)\n",
    "    while array[j]>value:\n",
    "        array[j+1] = array[j]\n",
    "        j -= 1\n",
    "    array[j+1] = value"
   ]
  },
  {
   "cell_type": "code",
   "execution_count": 52,
   "metadata": {},
   "outputs": [
    {
     "name": "stdout",
     "output_type": "stream",
     "text": [
      "[10, 11, 12, 17, 31, 38, 41, 53, 54, 57, 80, 85]\n",
      "[10, 10, 11, 12, 17, 31, 38, 41, 53, 54, 57, 80, 85]\n"
     ]
    }
   ],
   "source": [
    "# algorithm test\n",
    "array = random.sample(range(100), 12)\n",
    "selectionSort(array)\n",
    "print(array)\n",
    "insert(array, 5, 10)\n",
    "print(array)"
   ]
  },
  {
   "cell_type": "markdown",
   "metadata": {},
   "source": [
    "# Insertion sort"
   ]
  },
  {
   "cell_type": "code",
   "execution_count": 7,
   "metadata": {},
   "outputs": [],
   "source": [
    "def insertionSort(array):\n",
    "    sorted_array = []\n",
    "    for index in range(len(array)):\n",
    "        array[index]"
   ]
  },
  {
   "cell_type": "code",
   "execution_count": 20,
   "metadata": {},
   "outputs": [
    {
     "data": {
      "text/plain": [
       "10"
      ]
     },
     "execution_count": 20,
     "metadata": {},
     "output_type": "execute_result"
    }
   ],
   "source": [
    "len(array)"
   ]
  },
  {
   "cell_type": "code",
   "execution_count": null,
   "metadata": {},
   "outputs": [],
   "source": []
  }
 ],
 "metadata": {
  "kernelspec": {
   "display_name": "Python 3",
   "language": "python",
   "name": "python3"
  },
  "language_info": {
   "codemirror_mode": {
    "name": "ipython",
    "version": 3
   },
   "file_extension": ".py",
   "mimetype": "text/x-python",
   "name": "python",
   "nbconvert_exporter": "python",
   "pygments_lexer": "ipython3",
   "version": "3.7.0"
  }
 },
 "nbformat": 4,
 "nbformat_minor": 2
}
