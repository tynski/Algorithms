{
 "cells": [
  {
   "cell_type": "code",
   "execution_count": 14,
   "metadata": {},
   "outputs": [],
   "source": [
    "import math\n",
    "def binarySearch(array, target):\n",
    "    n = len(array)\n",
    "    Min = 0\n",
    "    Max = n-1\n",
    "    while Min<=Max:\n",
    "        guess = math.floor((Max+Min)/2)\n",
    "        if array[guess] == target:\n",
    "            return guess\n",
    "        elif array[guess] < target:\n",
    "            Min = guess + 1\n",
    "        else:\n",
    "            Max = guess - 1\n",
    "    return -1    "
   ]
  }
 ],
 "metadata": {
  "kernelspec": {
   "display_name": "Python 3",
   "language": "python",
   "name": "python3"
  },
  "language_info": {
   "codemirror_mode": {
    "name": "ipython",
    "version": 3
   },
   "file_extension": ".py",
   "mimetype": "text/x-python",
   "name": "python",
   "nbconvert_exporter": "python",
   "pygments_lexer": "ipython3",
   "version": "3.7.0"
  }
 },
 "nbformat": 4,
 "nbformat_minor": 2
}
