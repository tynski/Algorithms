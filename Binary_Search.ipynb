{
 "cells": [
  {
   "cell_type": "code",
   "execution_count": 4,
   "metadata": {},
   "outputs": [],
   "source": [
    "import math\n",
    "import numpy"
   ]
  },
  {
   "cell_type": "code",
   "execution_count": 2,
   "metadata": {},
   "outputs": [],
   "source": [
    "def binarySearch(array, target):\n",
    "    guess_count = 0\n",
    "    n = len(array)\n",
    "    Min = 0\n",
    "    Max = n-1\n",
    "    while Min<=Max:\n",
    "        guess = math.floor((Max+Min)/2)\n",
    "        guess_count += 1\n",
    "        if array[guess] == target:\n",
    "            return guess, guess_count\n",
    "        elif array[guess] < target:\n",
    "            Min = guess + 1\n",
    "        else:\n",
    "            Max = guess - 1\n",
    "    return -1, guess_count  "
   ]
  },
  {
   "cell_type": "code",
   "execution_count": 14,
   "metadata": {},
   "outputs": [
    {
     "name": "stdout",
     "output_type": "stream",
     "text": [
      "(index, number of iteration) (18, 2)\n"
     ]
    }
   ],
   "source": [
    "array = [2, 3, 5, 7, 11, 13, 17, 19, 23, 29, 31, 37, 41, 43, 47, 53, 59, 61, 67, 71, 73, 79, 83, 89, 97]\n",
    "print(\"(index, number of iteration)\",binarySearch(array, 67))"
   ]
  },
  {
   "cell_type": "code",
   "execution_count": null,
   "metadata": {},
   "outputs": [],
   "source": []
  }
 ],
 "metadata": {
  "kernelspec": {
   "display_name": "Python 3",
   "language": "python",
   "name": "python3"
  },
  "language_info": {
   "codemirror_mode": {
    "name": "ipython",
    "version": 3
   },
   "file_extension": ".py",
   "mimetype": "text/x-python",
   "name": "python",
   "nbconvert_exporter": "python",
   "pygments_lexer": "ipython3",
   "version": "3.7.0"
  }
 },
 "nbformat": 4,
 "nbformat_minor": 2
}
